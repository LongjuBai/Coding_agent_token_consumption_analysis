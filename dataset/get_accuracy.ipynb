{
 "cells": [
  {
   "cell_type": "code",
   "execution_count": null,
   "id": "6e4d78c8",
   "metadata": {},
   "outputs": [
    {
     "name": "stdout",
     "output_type": "stream",
     "text": [
      "Original CSV shape: (500, 65)\n",
      "Columns: ['repo', 'instance_id', 'base_commit', 'patch', 'test_patch', 'problem_statement', 'hints_text', 'created_at', 'version', 'FAIL_TO_PASS', 'PASS_TO_PASS', 'environment_setup_commit', 'difficulty', 'total_prompt_tokens_run1', 'total_completion_tokens_run1', 'total_total_tokens_run1', 'total_cache_creation_input_tokens_run1', 'total_cache_read_input_tokens_run1', 'total_cached_tokens_run1', 'total_tool_usages_run1', 'total_tool_usage_str_replace_editor_run1', 'total_tool_usage_execute_bash_run1', 'total_tool_usage_think_run1', 'total_tool_usage_finish_run1', 'total_interaction_rounds_run1', 'total_cost_run1', 'total_prompt_tokens_run2', 'total_completion_tokens_run2', 'total_total_tokens_run2', 'total_cache_creation_input_tokens_run2', 'total_cache_read_input_tokens_run2', 'total_cached_tokens_run2', 'total_tool_usages_run2', 'total_tool_usage_str_replace_editor_run2', 'total_tool_usage_execute_bash_run2', 'total_tool_usage_think_run2', 'total_tool_usage_finish_run2', 'total_interaction_rounds_run2', 'total_cost_run2', 'total_prompt_tokens_run3', 'total_completion_tokens_run3', 'total_total_tokens_run3', 'total_cache_creation_input_tokens_run3', 'total_cache_read_input_tokens_run3', 'total_cached_tokens_run3', 'total_tool_usages_run3', 'total_tool_usage_str_replace_editor_run3', 'total_tool_usage_execute_bash_run3', 'total_tool_usage_think_run3', 'total_tool_usage_finish_run3', 'total_interaction_rounds_run3', 'total_cost_run3', 'total_prompt_tokens_run4', 'total_completion_tokens_run4', 'total_total_tokens_run4', 'total_cache_creation_input_tokens_run4', 'total_cache_read_input_tokens_run4', 'total_cached_tokens_run4', 'total_tool_usages_run4', 'total_tool_usage_str_replace_editor_run4', 'total_tool_usage_execute_bash_run4', 'total_tool_usage_think_run4', 'total_tool_usage_finish_run4', 'total_interaction_rounds_run4', 'total_cost_run4']\n",
      "First few instance_ids: ['astropy__astropy-12907', 'astropy__astropy-13033', 'astropy__astropy-13236', 'astropy__astropy-13398', 'astropy__astropy-13453']\n"
     ]
    }
   ],
   "source": [
    "import pandas as pd\n",
    "import json\n",
    "import os\n",
    "\n",
    "# Define the paths for the report files for each run\n",
    "report_paths = {\n",
    "    'run1': './sonet_openhands/claude-3-7-sonnet-20250219_maxiter_100_N_v0.31.0-no-hint-juan-inst-t1-run_1/report.json',\n",
    "    'run2': './sonet_openhands/claude-3-7-sonnet-20250219_maxiter_100_N_v0.31.0-no-hint-juan-inst-t1-run_2/report.json',\n",
    "    'run3': './sonet_openhands/claude-3-7-sonnet-20250219_maxiter_100_N_v0.31.0-no-hint-juan-inst-t1-run_3/report.json',\n",
    "    'run4': './sonet_openhands/claude-3-7-sonnet-20250219_maxiter_100_N_v0.31.0-no-hint-juan-inst-t1-run_4/report.json'\n",
    "}\n",
    "\n",
    "# Load the CSV file\n",
    "csv_path = './dataset/swe_bench_token_cost_aggregated_total.csv'\n",
    "df = pd.read_csv(csv_path)\n",
    "\n",
    "print(f\"Original CSV shape: {df.shape}\")\n",
    "print(f\"Columns: {list(df.columns)}\")\n",
    "print(f\"First few instance_ids: {df['instance_id'].head().tolist()}\")\n"
   ]
  },
  {
   "cell_type": "code",
   "execution_count": 2,
   "id": "2be00c3c",
   "metadata": {},
   "outputs": [
    {
     "name": "stdout",
     "output_type": "stream",
     "text": [
      "run1: 297 resolved instances\n",
      "run2: 303 resolved instances\n",
      "run3: 300 resolved instances\n",
      "run4: 301 resolved instances\n",
      "run1: Sample resolved_ids: ['django__django-13933', 'sympy__sympy-19637', 'django__django-11265', 'django__django-13315', 'django__django-15103']\n",
      "run2: Sample resolved_ids: ['django__django-13933', 'sympy__sympy-19637', 'django__django-11265', 'django__django-13315', 'django__django-15103']\n",
      "run3: Sample resolved_ids: ['django__django-13933', 'sympy__sympy-19637', 'django__django-11265', 'django__django-15103', 'matplotlib__matplotlib-25122']\n",
      "run4: Sample resolved_ids: ['django__django-13933', 'sympy__sympy-19637', 'django__django-15103', 'matplotlib__matplotlib-25122', 'django__django-13568']\n"
     ]
    }
   ],
   "source": [
    "# Function to load resolved_ids from each report file\n",
    "def load_resolved_ids(report_path):\n",
    "    \"\"\"Load resolved_ids from a report.json file\"\"\"\n",
    "    try:\n",
    "        with open(report_path, 'r') as f:\n",
    "            report_data = json.load(f)\n",
    "        return set(report_data.get('resolved_ids', []))\n",
    "    except FileNotFoundError:\n",
    "        print(f\"Warning: Report file not found: {report_path}\")\n",
    "        return set()\n",
    "    except json.JSONDecodeError:\n",
    "        print(f\"Warning: Could not parse JSON from: {report_path}\")\n",
    "        return set()\n",
    "\n",
    "# Load resolved_ids for all runs\n",
    "resolved_ids_by_run = {}\n",
    "for run_name, report_path in report_paths.items():\n",
    "    resolved_ids = load_resolved_ids(report_path)\n",
    "    resolved_ids_by_run[run_name] = resolved_ids\n",
    "    print(f\"{run_name}: {len(resolved_ids)} resolved instances\")\n",
    "\n",
    "# Check if all report files were loaded successfully\n",
    "for run_name, resolved_ids in resolved_ids_by_run.items():\n",
    "    if len(resolved_ids) == 0:\n",
    "        print(f\"Warning: No resolved_ids found for {run_name}\")\n",
    "    else:\n",
    "        print(f\"{run_name}: Sample resolved_ids: {list(resolved_ids)[:5]}\")\n"
   ]
  },
  {
   "cell_type": "code",
   "execution_count": 3,
   "id": "d2ba4d46",
   "metadata": {},
   "outputs": [
    {
     "name": "stdout",
     "output_type": "stream",
     "text": [
      "Added acc_run1: 297 instances marked as resolved (accuracy=1)\n",
      "Added acc_run2: 303 instances marked as resolved (accuracy=1)\n",
      "Added acc_run3: 300 instances marked as resolved (accuracy=1)\n",
      "Added acc_run4: 301 instances marked as resolved (accuracy=1)\n",
      "\n",
      "Accuracy Summary:\n",
      "acc_run1: 297/500 (59.40%)\n",
      "acc_run2: 303/500 (60.60%)\n",
      "acc_run3: 300/500 (60.00%)\n",
      "acc_run4: 301/500 (60.20%)\n"
     ]
    }
   ],
   "source": [
    "# Add accuracy columns to the dataframe\n",
    "for run_name in ['run1', 'run2', 'run3', 'run4']:\n",
    "    acc_column_name = f'acc_{run_name}'\n",
    "    \n",
    "    if run_name in resolved_ids_by_run:\n",
    "        # Create accuracy column: 1 if instance_id is in resolved_ids, 0 otherwise\n",
    "        df[acc_column_name] = df['instance_id'].isin(resolved_ids_by_run[run_name]).astype(int)\n",
    "        print(f\"Added {acc_column_name}: {df[acc_column_name].sum()} instances marked as resolved (accuracy=1)\")\n",
    "    else:\n",
    "        # If no data available for this run, set all to 0\n",
    "        df[acc_column_name] = 0\n",
    "        print(f\"Added {acc_column_name}: No data available, set all to 0\")\n",
    "\n",
    "# Display summary statistics\n",
    "print(\"\\nAccuracy Summary:\")\n",
    "for run_name in ['run1', 'run2', 'run3', 'run4']:\n",
    "    acc_column_name = f'acc_{run_name}'\n",
    "    total_instances = len(df)\n",
    "    resolved_count = df[acc_column_name].sum()\n",
    "    accuracy_rate = (resolved_count / total_instances) * 100\n",
    "    print(f\"{acc_column_name}: {resolved_count}/{total_instances} ({accuracy_rate:.2f}%)\")\n"
   ]
  },
  {
   "cell_type": "code",
   "execution_count": 4,
   "id": "181f2d6f",
   "metadata": {},
   "outputs": [
    {
     "name": "stdout",
     "output_type": "stream",
     "text": [
      "New columns added:\n",
      "✓ acc_run1\n",
      "✓ acc_run2\n",
      "✓ acc_run3\n",
      "✓ acc_run4\n",
      "\n",
      "Updated CSV shape: (500, 69)\n",
      "New columns: ['acc_run1', 'acc_run2', 'acc_run3', 'acc_run4']\n",
      "\n",
      "Sample data with accuracy columns:\n",
      "              instance_id  acc_run1  acc_run2  acc_run3  acc_run4\n",
      "0  astropy__astropy-12907         1         1         1         1\n",
      "1  astropy__astropy-13033         0         0         0         0\n",
      "2  astropy__astropy-13236         0         0         0         0\n",
      "3  astropy__astropy-13398         0         0         0         0\n",
      "4  astropy__astropy-13453         1         0         1         0\n",
      "5  astropy__astropy-13579         1         1         1         1\n",
      "6  astropy__astropy-13977         0         0         0         0\n",
      "7  astropy__astropy-14096         0         1         0         1\n",
      "8  astropy__astropy-14182         0         0         0         0\n",
      "9  astropy__astropy-14309         1         1         1         1\n"
     ]
    }
   ],
   "source": [
    "# Display the new columns and verify the data\n",
    "print(\"New columns added:\")\n",
    "new_columns = ['acc_run1', 'acc_run2', 'acc_run3', 'acc_run4']\n",
    "for col in new_columns:\n",
    "    if col in df.columns:\n",
    "        print(f\"✓ {col}\")\n",
    "\n",
    "print(f\"\\nUpdated CSV shape: {df.shape}\")\n",
    "print(f\"New columns: {new_columns}\")\n",
    "\n",
    "# Show a sample of the data with accuracy columns\n",
    "print(\"\\nSample data with accuracy columns:\")\n",
    "sample_cols = ['instance_id', 'acc_run1', 'acc_run2', 'acc_run3', 'acc_run4']\n",
    "print(df[sample_cols].head(10))\n"
   ]
  },
  {
   "cell_type": "code",
   "execution_count": null,
   "id": "46d2af2a",
   "metadata": {},
   "outputs": [
    {
     "name": "stdout",
     "output_type": "stream",
     "text": [
      "Updated CSV saved to: /nfs/turbo/coe-mihalcea/longju/token_consumption/organized_codebase/dataset/swe_bench_token_cost_aggregated_total_with_accuracy.csv\n",
      "Final shape: (500, 69)\n",
      "\n",
      "Verification - checking saved file:\n",
      "Saved file shape: (500, 69)\n",
      "Accuracy columns in saved file: ['acc_run1', 'acc_run2', 'acc_run3', 'acc_run4']\n",
      "\n",
      "Final Accuracy Summary:\n",
      "acc_run1: 297/500 (59.40%)\n",
      "acc_run2: 303/500 (60.60%)\n",
      "acc_run3: 300/500 (60.00%)\n",
      "acc_run4: 301/500 (60.20%)\n"
     ]
    }
   ],
   "source": [
    "# Save the updated CSV file\n",
    "output_path = './dataset/swe_bench_token_cost_aggregated_total_with_accuracy.csv'\n",
    "df.to_csv(output_path, index=False)\n",
    "\n",
    "print(f\"Updated CSV saved to: {output_path}\")\n",
    "print(f\"Final shape: {df.shape}\")\n",
    "\n",
    "# Verify the saved file\n",
    "print(\"\\nVerification - checking saved file:\")\n",
    "df_verify = pd.read_csv(output_path)\n",
    "print(f\"Saved file shape: {df_verify.shape}\")\n",
    "print(f\"Accuracy columns in saved file: {[col for col in df_verify.columns if col.startswith('acc_')]}\")\n",
    "\n",
    "# Show final summary\n",
    "print(\"\\nFinal Accuracy Summary:\")\n",
    "for run_name in ['run1', 'run2', 'run3', 'run4']:\n",
    "    acc_column_name = f'acc_{run_name}'\n",
    "    if acc_column_name in df_verify.columns:\n",
    "        resolved_count = df_verify[acc_column_name].sum()\n",
    "        total_instances = len(df_verify)\n",
    "        accuracy_rate = (resolved_count / total_instances) * 100\n",
    "        print(f\"{acc_column_name}: {resolved_count}/{total_instances} ({accuracy_rate:.2f}%)\")\n"
   ]
  }
 ],
 "metadata": {
  "kernelspec": {
   "display_name": "CLIP_RepE",
   "language": "python",
   "name": "python3"
  },
  "language_info": {
   "codemirror_mode": {
    "name": "ipython",
    "version": 3
   },
   "file_extension": ".py",
   "mimetype": "text/x-python",
   "name": "python",
   "nbconvert_exporter": "python",
   "pygments_lexer": "ipython3",
   "version": "3.10.14"
  }
 },
 "nbformat": 4,
 "nbformat_minor": 5
}
